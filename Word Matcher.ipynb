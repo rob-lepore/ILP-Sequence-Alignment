{
 "cells": [
  {
   "cell_type": "markdown",
   "id": "a04f38f8",
   "metadata": {},
   "source": [
    "# Word Matcher - Applicazione non biologica\n",
    "\n",
    "Di seguito è mostrata l'applicazione dell'allineamento di sequenza alla ricerca della parola più simile a una stringa data."
   ]
  },
  {
   "cell_type": "markdown",
   "id": "d82d2537",
   "metadata": {},
   "source": [
    "Importiamo il modulo amplpy per risolvere i problemi di programmazione intera"
   ]
  },
  {
   "cell_type": "code",
   "execution_count": 1,
   "id": "c4992d8c",
   "metadata": {},
   "outputs": [],
   "source": [
    "from amplpy import AMPL, add_to_path\n",
    "add_to_path(r\"C:\\ampl\")"
   ]
  },
  {
   "cell_type": "markdown",
   "id": "bf656d6f",
   "metadata": {},
   "source": [
    "Importiamo il modulo nltk per ottenere una lista di parole inglesi"
   ]
  },
  {
   "cell_type": "code",
   "execution_count": 2,
   "id": "b0c9cc8e",
   "metadata": {},
   "outputs": [
    {
     "name": "stderr",
     "output_type": "stream",
     "text": [
      "[nltk_data] Downloading package words to\n",
      "[nltk_data]     C:\\Users\\rober\\AppData\\Roaming\\nltk_data...\n",
      "[nltk_data]   Package words is already up-to-date!\n"
     ]
    }
   ],
   "source": [
    "import nltk\n",
    "nltk.download('words')\n",
    "from nltk.corpus import words"
   ]
  },
  {
   "cell_type": "markdown",
   "id": "8186efde",
   "metadata": {},
   "source": [
    "Funzione di utilità che scrive il file di dati che verrà utilizzato da ampl"
   ]
  },
  {
   "cell_type": "code",
   "execution_count": 3,
   "id": "cca7184c",
   "metadata": {},
   "outputs": [],
   "source": [
    "def writeData(s1, s2, filename = \"ampl_files/input.dat\"):\n",
    "    \n",
    "    file = open(filename, \"w\")\n",
    "    file.writelines([\n",
    "            f\"param n:={len(s1)};\\n\",\n",
    "            f\"param m:={len(s2)};\\n\",\n",
    "            \"param gap_p:=1;\\n\",\n",
    "            \"param mis_p:=1;\\n\",\n",
    "            \"param r:=-1;\\n\",\n",
    "            \"param a :=\\n\"\n",
    "        ])\n",
    "    \n",
    "    a = []\n",
    "    for c1 in s1:\n",
    "      row = []\n",
    "      for c2 in s2:\n",
    "        row.append(1 if c1 == c2 else 0)\n",
    "      a.append(row)\n",
    "    \n",
    "    for i in range(len(a)):\n",
    "      for j in range(len(a[i])):\n",
    "        file.write(f\"{i+1} {j+1} {a[i][j]} \\n\")\n",
    "    \n",
    "    file.write(\";\\n\")\n",
    "    file.close()"
   ]
  },
  {
   "cell_type": "markdown",
   "id": "a4f5983a",
   "metadata": {},
   "source": [
    "La seguente funzione filtra le parole che differiscono eccessivamente dalla stringa di input. Vengono eliminate le parole che non condividono alcuna lettera con la stringa obiettivo e quelle con una lunghezza significativamente diversa."
   ]
  },
  {
   "cell_type": "code",
   "execution_count": 4,
   "id": "74c17e44",
   "metadata": {},
   "outputs": [],
   "source": [
    "def tooDifferent(a, b):\n",
    "    if abs(len(a)-len(b)) > 0.5*len(a):\n",
    "        return True\n",
    "    for c in a:\n",
    "        if c in b:\n",
    "            return False\n",
    "    return True"
   ]
  },
  {
   "cell_type": "markdown",
   "id": "c15d9814",
   "metadata": {},
   "source": [
    "La funzione ```computeScore``` applica il modello dell'allineamento di sequenza per ottenere il punteggio di somiglianza tra due parole."
   ]
  },
  {
   "cell_type": "code",
   "execution_count": 5,
   "id": "628d92e7",
   "metadata": {},
   "outputs": [],
   "source": [
    "def computeScore(target, word, inputfile):\n",
    "    ampl = AMPL()\n",
    "    best = -100, \"\"\n",
    "    writeData(target, word, inputfile)\n",
    "\n",
    "    ampl.eval(r''' \n",
    "        reset;\n",
    "        model ./ampl_files/SequenceAlignment.mod;\n",
    "        data ''' + inputfile + ''';\n",
    "        option solver cbc;\n",
    "        option solver_msg 0; \n",
    "        solve >ampl_files/out.txt;\n",
    "        ''')\n",
    "\n",
    "    score = -round(ampl.get_value(\"obj\"))\n",
    "    return score"
   ]
  },
  {
   "cell_type": "code",
   "execution_count": null,
   "id": "c0db6ee4",
   "metadata": {},
   "outputs": [
    {
     "name": "stderr",
     "output_type": "stream",
     "text": [
      "Progress:   0%|\u001b[38;2;0;255;255m▏                                                                 \u001b[0m| 104/28636 [00:33<2:30:09,  3.17it/s]\u001b[0m"
     ]
    }
   ],
   "source": [
    "from tqdm import tqdm\n",
    "\n",
    "english_words = words.words()\n",
    "text = \"telo\"\n",
    "\n",
    "if text not in english_words:\n",
    "\n",
    "    filtered = list(filter(lambda w: not tooDifferent(text, w), english_words))\n",
    "    n=len(filtered)\n",
    "\n",
    "    best = -100, \"\"\n",
    "    for i in tqdm(range(0, n), colour=\"#00ffff\", desc =\"Progress: \"):\n",
    "        score = computeScore(text, filtered[i], \"ampl_files/word_input.dat\")\n",
    "        if score > best[0]:\n",
    "            best = score, filtered[i]\n",
    "            if score >= len(text)-2:\n",
    "                break\n",
    "    print(f\"Best match: {best}\")\n",
    "else:\n",
    "    print(f\"{text} is a correct word\")\n"
   ]
  }
 ],
 "metadata": {
  "kernelspec": {
   "display_name": "Python 3 (ipykernel)",
   "language": "python",
   "name": "python3"
  },
  "language_info": {
   "codemirror_mode": {
    "name": "ipython",
    "version": 3
   },
   "file_extension": ".py",
   "mimetype": "text/x-python",
   "name": "python",
   "nbconvert_exporter": "python",
   "pygments_lexer": "ipython3",
   "version": "3.9.12"
  }
 },
 "nbformat": 4,
 "nbformat_minor": 5
}
