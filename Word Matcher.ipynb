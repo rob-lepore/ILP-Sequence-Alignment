{
 "cells": [
  {
   "cell_type": "code",
   "execution_count": 1,
   "id": "c4992d8c",
   "metadata": {},
   "outputs": [
    {
     "name": "stderr",
     "output_type": "stream",
     "text": [
      "[nltk_data] Downloading package words to\n",
      "[nltk_data]     C:\\Users\\rober\\AppData\\Roaming\\nltk_data...\n",
      "[nltk_data]   Package words is already up-to-date!\n"
     ]
    }
   ],
   "source": [
    "from amplpy import AMPL, add_to_path\n",
    "add_to_path(r\"C:\\ampl\")\n",
    "import nltk\n",
    "nltk.download('words')\n",
    "from nltk.corpus import words\n",
    "from tqdm import tqdm\n",
    "from time import sleep"
   ]
  },
  {
   "cell_type": "code",
   "execution_count": 2,
   "id": "cca7184c",
   "metadata": {},
   "outputs": [],
   "source": [
    "def writeData(s1, s2, filename = \"ampl_files/input.dat\"):\n",
    "    \n",
    "    file = open(filename, \"w\")\n",
    "    file.writelines([\n",
    "            f\"param n:={len(s1)};\\n\",\n",
    "            f\"param m:={len(s2)};\\n\",\n",
    "            \"param gap_p:=1;\\n\",\n",
    "            \"param mis_p:=1;\\n\",\n",
    "            \"param r:=-1;\\n\",\n",
    "            \"param a :=\\n\"\n",
    "        ])\n",
    "    \n",
    "    a = []\n",
    "    for c1 in s1:\n",
    "      row = []\n",
    "      for c2 in s2:\n",
    "        row.append(1 if c1 == c2 else 0)\n",
    "      a.append(row)\n",
    "    \n",
    "    for i in range(len(a)):\n",
    "      for j in range(len(a[i])):\n",
    "        file.write(f\"{i+1} {j+1} {a[i][j]} \\n\")\n",
    "    \n",
    "    file.write(\";\\n\")\n",
    "    file.close()"
   ]
  },
  {
   "cell_type": "code",
   "execution_count": 3,
   "id": "74c17e44",
   "metadata": {},
   "outputs": [],
   "source": [
    "def tooDifferent(a, b):\n",
    "    for c in a:\n",
    "        if c in b:\n",
    "            return False\n",
    "    return True"
   ]
  },
  {
   "cell_type": "code",
   "execution_count": 4,
   "id": "628d92e7",
   "metadata": {},
   "outputs": [],
   "source": [
    "def computeScore(target, word, inputfile):\n",
    "    ampl = AMPL()\n",
    "    best = -100, \"\"\n",
    "    writeData(target, word, inputfile)\n",
    "\n",
    "    ampl.eval(r''' \n",
    "        reset;\n",
    "        model ./ampl_files/SequenceAlignment.mod;\n",
    "        data ''' + inputfile + ''';\n",
    "        option solver cbc;\n",
    "        option solver_msg 0; \n",
    "        solve >ampl_files/out.txt;\n",
    "        ''')\n",
    "\n",
    "    score = -round(ampl.get_value(\"obj\"))\n",
    "    return score"
   ]
  },
  {
   "cell_type": "code",
   "execution_count": null,
   "id": "c0db6ee4",
   "metadata": {},
   "outputs": [
    {
     "name": "stderr",
     "output_type": "stream",
     "text": [
      "Progress:   2%|\u001b[38;2;0;255;255m█                                                                 \u001b[0m| 443/28032 [02:12<2:26:58,  3.13it/s]\u001b[0m"
     ]
    }
   ],
   "source": [
    "english_words = words.words()\n",
    "\n",
    "text = \"helo\"\n",
    "\n",
    "if text not in english_words:\n",
    "\n",
    "    filtered = filter(lambda w: abs(len(w)-len(text)) <= 0.5*len(text), english_words )\n",
    "    filtered = filter(lambda w: not tooDifferent(text, w), list(filtered))\n",
    "    filtered = list(filtered)\n",
    "\n",
    "    n=len(filtered)\n",
    "\n",
    "    best = -100, \"\"\n",
    "    for i in tqdm(range(0, n), colour=\"#00ffff\", desc =\"Progress: \"):\n",
    "        score = computeScore(text, filtered[i], \"ampl_files/input0.dat\")\n",
    "        if score > best[0]:\n",
    "            best = score, filtered[i]\n",
    "            if score >= len(text)-2:\n",
    "                break\n",
    "    print(f\"Best match: {best}\")\n",
    "else:\n",
    "    print(f\"Best match: {text}\")\n"
   ]
  }
 ],
 "metadata": {
  "kernelspec": {
   "display_name": "Python 3 (ipykernel)",
   "language": "python",
   "name": "python3"
  },
  "language_info": {
   "codemirror_mode": {
    "name": "ipython",
    "version": 3
   },
   "file_extension": ".py",
   "mimetype": "text/x-python",
   "name": "python",
   "nbconvert_exporter": "python",
   "pygments_lexer": "ipython3",
   "version": "3.9.12"
  }
 },
 "nbformat": 4,
 "nbformat_minor": 5
}
