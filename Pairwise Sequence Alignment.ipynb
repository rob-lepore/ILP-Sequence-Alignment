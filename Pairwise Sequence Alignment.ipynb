{
 "cells": [
  {
   "cell_type": "markdown",
   "id": "244cb313",
   "metadata": {},
   "source": [
    "# Pairwise Sequence Alignment - Elaborato per il corso Ricerca Operativa\n",
    "\n",
    "<img src=\"assets/dna2.png\" alt= “” width=\"300\" >\n"
   ]
  },
  {
   "cell_type": "markdown",
   "id": "995ba08e",
   "metadata": {},
   "source": [
    "### Descrizione del problema\n",
    "L'allineamento di sequenza a coppie è un problema fondamentale nell'ambito della bioinformatica e dell'analisi delle sequenze genetiche. L'obiettivo è confrontare due sequenze di DNA, RNA o proteine per identificare regioni di somiglianza o di conservazione funzionale.\n",
    "\n",
    "Le sequenze biologiche possono presentare **variazioni e mutazioni** nel corso dell'evoluzione, rendendo necessario l'allineamento per rivelare le corrispondenze tra i loro elementi costitutivi. Se due sequenze condividono un antenato comune, le mancate corrispondenze (*mismatch*) possono essere interpretate come mutazioni puntiformi e i buchi (*gap*) come indel (mutazioni di inserimento o cancellazione).\n",
    "\n",
    "### Allineamenti validi \n",
    "Un allineamento tra due stringhe viene ottenuto aggiungendo simboli di gap (\"-\") a ciascuna stringa in modo che le stringhe risultanti abbiano la stessa lunghezza. Di conseguenza, i simboli in posizioni corrispondenti possono essere sovrapposti per formare l'allineamento. È importante che i simboli di gap non vengano allineati tra di loro, in modo che rappresentino l'inserimento o la cancellazione di un simbolo nella stringa opposta."
   ]
  },
  {
   "cell_type": "markdown",
   "id": "edd8625a",
   "metadata": {},
   "source": [
    "### Il Modello\n",
    "Di seguito viene presentato il modello formulato per descrivere il problema dell'allineamento di sequenze a coppie. È possibile impostare i parametri di penalità per i mismatch e i gap, così come il valore di ricompensa per le corrispondenze.\n",
    "\n",
    "La funzione obiettivo cerca di massimizzare il numero di corrispondenze e minimizzare il numero di mismatch e di gap, inclusi i gap finali. Il costo ottimo corrisponde all'opposto del punteggio dell'allineamento."
   ]
  },
  {
   "cell_type": "code",
   "execution_count": 10,
   "id": "e0ba6391",
   "metadata": {},
   "outputs": [
    {
     "name": "stdout",
     "output_type": "stream",
     "text": [
      "Overwriting ampl_files/SequenceAlignment.mod\n"
     ]
    }
   ],
   "source": [
    "%%writefile ampl_files/SequenceAlignment.mod\n",
    "\n",
    "param n;                               # length of sequence s1\n",
    "param m;                               # length of sequence s2\n",
    "param mis_p;                           # mismatch penality\n",
    "param gap_p;                           # gap penality\n",
    "param r;                               # match reward\n",
    "param a{i in 1..n, j in 1..m} binary;  # matrix that indicates whether s1[i] is equal to s2[j]\n",
    "\n",
    "var x{i in 1..n, j in 1..m} binary;    # matrix that indicates whether s1[i] and s2[j] are aligned\n",
    "var y{i in 1..n} binary;               # array that indicates whether s1[i] is aligned with a gap in s2\n",
    "var z{j in 1..m} binary;               # array that indicates whether s2[j] is aligned with a gap in s1\n",
    "var v;\n",
    "\n",
    "# a symbol in a sequence can't be aligned with both another symbol and with a gap at the same time.\n",
    "subject to maxAlignmentsS1{i in 1..n}: \n",
    "\t(sum{j in 1..m} x[i,j]) + y[i] <= 1;\n",
    "subject to maxAlignmentsS2{j in 1..m}: \n",
    "\t(sum{i in 1..n} x[i,j]) + z[j] <= 1;\n",
    "    \n",
    "# if s1[i] is aligned with s2[j], previous symbols in s1 can't be aligned with following symbols \n",
    "# in s2, and vice versa.\n",
    "subject to alignmentOrder1{i in 1..n, j in 1..m, k in 1..i-1, h in j+1..m}:\n",
    "    x[i,j] + x[k,h] <= 1;\n",
    "subject to alignmentOrder2{i in 1..n, j in 1..m, k in i+1..n, h in 1..j-1}:\n",
    "    x[i,j] + x[k,h] <= 1;\n",
    "    \n",
    "# two symbols to be aligned must be the same.\n",
    "subject to sameSymbol{i in 1..n, j in 1..m}: \n",
    "\tx[i,j] <= a[i,j];\n",
    "    \n",
    "# if two symbols are aligned but have different positions in their sequence, there must be \n",
    "# enough gaps in previous positions of both the sequences.\n",
    "subject to previousGaps{i in 1..n, j in 1..m}:\n",
    "\tx[i,j] * ( ( sum{k in 1..i} y[k] ) - ( sum{h in 1..j} z[h] ) ) == x[i,j] * (i - j);\n",
    "\n",
    "# to know the number of final gaps in the shortest sequence, we need to calculate the absolute value \n",
    "# of the difference between the two aligned sequences. Since the absolute value is not a linear function,\n",
    "# we add the following two constraints to set the variable v to be the absolute value we need.\n",
    "subject to absoluteValueA:\n",
    "\t-v <= (n + sum{j in 1..m} z[j]) - (m + sum{i in 1..n} y[i]);\n",
    "subject to absoluteValueB:\n",
    "\t(n + sum{j in 1..m} z[j]) - (m + sum{i in 1..n} y[i]) <= v;\n",
    "    \n",
    "# with this objective function we try to maximize the number of matches and \n",
    "# at the same time minimize the number of gaps and mismatches.\n",
    "minimize obj: \n",
    "\t( sum{j in 1..m} sum{i in 1..n} (x[i,j]) * r) + #matches\n",
    "\t( sum{i in 1..n} y[i] * gap_p )               + #gaps\n",
    "\t( sum{j in 1..m} z[j] * gap_p )               + \n",
    "\t( sum{i in 1..n} (1 - ( ( sum{j in 1..m} x[i,j] ) + y[i] ) ) * mis_p ) +  #mismatches\n",
    "\t( v * gap_p ); #ending gaps\n",
    "\t\n"
   ]
  },
  {
   "cell_type": "markdown",
   "id": "26982da2",
   "metadata": {},
   "source": [
    "### Il Codice\n",
    "\n",
    "Importiamo il modulo amplpy"
   ]
  },
  {
   "cell_type": "code",
   "execution_count": 11,
   "id": "00e226c0",
   "metadata": {},
   "outputs": [],
   "source": [
    "from amplpy import AMPL, add_to_path\n",
    "add_to_path(r\"C:\\ampl\") # path to the ampl installation folder"
   ]
  },
  {
   "cell_type": "markdown",
   "id": "0661b8a7",
   "metadata": {},
   "source": [
    "La funzione di utilità ```writeData``` crea un file di dati nel formato richiesto per l'utilizzo del software AMPL, a partire dalle due sequenze da allineare fornite come input. "
   ]
  },
  {
   "cell_type": "code",
   "execution_count": 12,
   "id": "38cf9f4a",
   "metadata": {},
   "outputs": [],
   "source": [
    "def writeData(s1, s2, filename = \"ampl_files/input.dat\"):\n",
    "    \n",
    "    file = open(filename, \"w\")\n",
    "    file.writelines([\n",
    "            f\"param n:={len(s1)};\\n\",\n",
    "            f\"param m:={len(s2)};\\n\",\n",
    "            \"param gap_p:=1;\\n\", # gap penality\n",
    "            \"param mis_p:=1;\\n\", # mismatch penality\n",
    "            \"param r:=-1;\\n\",    # match reward\n",
    "            \"param a :=\\n\"\n",
    "        ])\n",
    "    \n",
    "    a = []\n",
    "    for c1 in s1:\n",
    "      row = []\n",
    "      for c2 in s2:\n",
    "        row.append(1 if c1 == c2 else 0)\n",
    "      a.append(row)\n",
    "    \n",
    "    for i in range(len(a)):\n",
    "      for j in range(len(a[i])):\n",
    "        file.write(f\"{i+1} {j+1} {a[i][j]} \\n\")\n",
    "    \n",
    "    file.write(\";\\n\")\n",
    "    file.close()"
   ]
  },
  {
   "cell_type": "markdown",
   "id": "cb7ccf30",
   "metadata": {},
   "source": [
    "La funzione di utilità ```addGaps``` costruisce le stringhe con i gap a partire da due array, *y* e *z*, che rappresentano le corrispondenze a gap nelle due sequenze."
   ]
  },
  {
   "cell_type": "code",
   "execution_count": 13,
   "id": "dacc78c9",
   "metadata": {},
   "outputs": [],
   "source": [
    "def addGaps(a, b, y, z):\n",
    "    \n",
    "    gaps1 = []\n",
    "    for (i,v) in y:\n",
    "        if round(v)==1:\n",
    "            gaps1.append(int(i))\n",
    "    gaps2 = []\n",
    "    for (i,v) in z:\n",
    "        if round(v)==1:\n",
    "            gaps2.append(int(i))\n",
    "            \n",
    "    for i in range(1,max(len(a), len(b))+1):\n",
    "        if i in gaps1:\n",
    "            b = b[:i-1] + \"-\" + b[i-1:]\n",
    "            gaps1.remove(i)\n",
    "            gaps2 = [k+1 for k in gaps2]\n",
    "        if i in gaps2:\n",
    "            a = a[:i-1] + \"-\" + a[i-1:]\n",
    "            gaps2.remove(i)\n",
    "            gaps1 = [k+1 for k in gaps1]\n",
    "    \n",
    "    return \" \".join(a), \" \".join(b)"
   ]
  },
  {
   "cell_type": "markdown",
   "id": "f0f02c49",
   "metadata": {},
   "source": [
    "La funzione ```solveAlignment``` risolve il problema dell'allineamento di sequenze a coppie utilizzando il software AMPL e restituisce il punteggio ottimo e le sequenze allineate con i gap aggiunti. La funzione accetta due sequenze *a* e *b* come input.\n",
    "\n",
    "L'opzione ```solver_msg 0``` e il reindirizzamento di solve in ```ampl_files/out.txt``` servono a evitare la visualizzazione di output durante l'esecuzione. Tuttavia, se si desidera visualizzare il numero di iterazioni fatte e il valore del costo ottimo, è possibile rimuovere queste opzioni."
   ]
  },
  {
   "cell_type": "code",
   "execution_count": 14,
   "id": "7bd26c51",
   "metadata": {},
   "outputs": [],
   "source": [
    "def solveAlignment(a,b):\n",
    "    writeData(a, b)\n",
    "    \n",
    "    ampl = AMPL()\n",
    "    \n",
    "    ampl.eval(r''' \n",
    "            reset;\n",
    "            model ampl_files/SequenceAlignment.mod;\n",
    "            data ampl_files/input.dat;\n",
    "            option solver cbc;\n",
    "            option solver_msg 0; \n",
    "            solve >ampl_files/out.txt;\n",
    "            ''')\n",
    "    \n",
    "    score = -round(ampl.get_value(\"obj\"))\n",
    "    \n",
    "    y = ampl.getVariable(\"y\").getValues()        \n",
    "    z = ampl.getVariable(\"z\").getValues()\n",
    "    \n",
    "    return score, addGaps(a, b, y, z)"
   ]
  },
  {
   "cell_type": "markdown",
   "id": "e63f83a0",
   "metadata": {},
   "source": [
    "### Esempio\n",
    "Di seguito è mostrato un esempio di utilizzo del modello. \n",
    "\n",
    "Prese due sequenze *s1* e *s2*, usiamo la funzione ```solveAlignment``` per calcolare l'allineamento ottimo e il suo punteggio."
   ]
  },
  {
   "cell_type": "code",
   "execution_count": 15,
   "id": "38838d26",
   "metadata": {},
   "outputs": [],
   "source": [
    "s1 = \"GCCAGTTGG\"\n",
    "s2 = \"GTCGTTAAACGCA\"\n",
    "\n",
    "score, result = solveAlignment(s1,s2)\n",
    "s1_with_gaps, s2_with_gaps = result"
   ]
  },
  {
   "cell_type": "markdown",
   "id": "f70655d4",
   "metadata": {},
   "source": [
    "Visualizziamo a schermo il risultato."
   ]
  },
  {
   "cell_type": "code",
   "execution_count": 16,
   "id": "85e8ae27",
   "metadata": {},
   "outputs": [
    {
     "name": "stdout",
     "output_type": "stream",
     "text": [
      "Optimal alignment:\n",
      "G C C A G T T - - G - G\n",
      "G T C - G T T A A A C G C A\n",
      "Score = -2\n"
     ]
    }
   ],
   "source": [
    "print(\"Optimal alignment:\")\n",
    "print(s1_with_gaps)\n",
    "print(s2_with_gaps)\n",
    "print(f\"Score = {score}\")"
   ]
  },
  {
   "cell_type": "markdown",
   "id": "5c6f3f1e",
   "metadata": {},
   "source": [
    "### Test\n",
    "La funzione ```getScore``` utilizza il modulo [minineedle](https://github.com/scastlara/minineedle), che implementa l'algoritmo di Needleman-Wunsch.\\\n",
    "L'algoritmo di Needleman-Wunsch è un algoritmo di programmazione dinamica utilizzato in bioinformatica per risolvere l'allineamento di sequenza."
   ]
  },
  {
   "cell_type": "code",
   "execution_count": 17,
   "id": "4166c27c",
   "metadata": {
    "scrolled": true
   },
   "outputs": [],
   "source": [
    "from minineedle import needle, core\n",
    "import numpy as np\n",
    "\n",
    "def getScore(a,b):\n",
    "    alignment: needle.NeedlemanWunsch[str] = needle.NeedlemanWunsch(a, b)\n",
    "    alignment.change_matrix(core.ScoreMatrix(match=1, miss=-1, gap=-1))\n",
    "    alignment.align()\n",
    "    return alignment.get_score()\n"
   ]
  },
  {
   "cell_type": "markdown",
   "id": "fa04d219",
   "metadata": {},
   "source": [
    "Per confrontare i risultati del modello proposto con il metodo di Needleman-Wunsch, eseguiamo una valutazione su un set di 10 coppie di sequenze casuali."
   ]
  },
  {
   "cell_type": "code",
   "execution_count": 18,
   "id": "e4ff532a",
   "metadata": {},
   "outputs": [
    {
     "name": "stdout",
     "output_type": "stream",
     "text": [
      "10/10\n",
      "All tests completed correctly!\n"
     ]
    }
   ],
   "source": [
    "n_tests = 10\n",
    "\n",
    "for i in range(n_tests):\n",
    "    a = \"\".join(np.random.choice(['A', 'T', 'G', 'C'], np.random.randint(3,15)))\n",
    "    b = \"\".join(np.random.choice(['A', 'T', 'G', 'C'], np.random.randint(3,15)))\n",
    "    score = solveAlignment(a,b)[0]\n",
    "    correct = getScore(a,b)\n",
    "    assert score==correct, \"Alignment test failed\"\n",
    "    print(f\"\\r{i+1}/{n_tests}\",end=\"\")\n",
    "    \n",
    "print(\"\\nAll tests completed correctly!\")\n"
   ]
  }
 ],
 "metadata": {
  "kernelspec": {
   "display_name": "Python 3 (ipykernel)",
   "language": "python",
   "name": "python3"
  },
  "language_info": {
   "codemirror_mode": {
    "name": "ipython",
    "version": 3
   },
   "file_extension": ".py",
   "mimetype": "text/x-python",
   "name": "python",
   "nbconvert_exporter": "python",
   "pygments_lexer": "ipython3",
   "version": "3.9.12"
  }
 },
 "nbformat": 4,
 "nbformat_minor": 5
}
